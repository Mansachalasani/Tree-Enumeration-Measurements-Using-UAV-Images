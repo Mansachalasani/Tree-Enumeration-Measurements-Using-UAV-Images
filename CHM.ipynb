{
  "nbformat": 4,
  "nbformat_minor": 0,
  "metadata": {
    "colab": {
      "provenance": []
    },
    "kernelspec": {
      "name": "python3",
      "display_name": "Python 3"
    },
    "language_info": {
      "name": "python"
    }
  },
  "cells": [
    {
      "cell_type": "code",
      "execution_count": null,
      "metadata": {
        "id": "SijTLG2KZCYb"
      },
      "outputs": [],
      "source": [
        "output_chm_path = 'output_chm.tif'"
      ]
    },
    {
      "cell_type": "code",
      "source": [
        "from google.colab import drive\n",
        "drive.mount('/content/drive')"
      ],
      "metadata": {
        "colab": {
          "base_uri": "https://localhost:8080/"
        },
        "id": "V6VLXa_7ZsAH",
        "outputId": "6a738e76-a174-461c-80f6-e131da185917"
      },
      "execution_count": null,
      "outputs": [
        {
          "output_type": "stream",
          "name": "stdout",
          "text": [
            "Drive already mounted at /content/drive; to attempt to forcibly remount, call drive.mount(\"/content/drive\", force_remount=True).\n"
          ]
        }
      ]
    },
    {
      "cell_type": "code",
      "source": [
        "!pip install rasterio numpy"
      ],
      "metadata": {
        "colab": {
          "base_uri": "https://localhost:8080/"
        },
        "id": "-j5EMF6xabV3",
        "outputId": "86d5a258-eefe-4c8b-f270-0ae22dd0216a"
      },
      "execution_count": null,
      "outputs": [
        {
          "output_type": "stream",
          "name": "stdout",
          "text": [
            "Collecting rasterio\n",
            "  Downloading rasterio-1.3.9-cp310-cp310-manylinux2014_x86_64.whl (20.6 MB)\n",
            "\u001b[2K     \u001b[90m━━━━━━━━━━━━━━━━━━━━━━━━━━━━━━━━━━━━━━━━\u001b[0m \u001b[32m20.6/20.6 MB\u001b[0m \u001b[31m56.1 MB/s\u001b[0m eta \u001b[36m0:00:00\u001b[0m\n",
            "\u001b[?25hRequirement already satisfied: numpy in /usr/local/lib/python3.10/dist-packages (1.25.2)\n",
            "Collecting affine (from rasterio)\n",
            "  Downloading affine-2.4.0-py3-none-any.whl (15 kB)\n",
            "Requirement already satisfied: attrs in /usr/local/lib/python3.10/dist-packages (from rasterio) (23.2.0)\n",
            "Requirement already satisfied: certifi in /usr/local/lib/python3.10/dist-packages (from rasterio) (2024.2.2)\n",
            "Requirement already satisfied: click>=4.0 in /usr/local/lib/python3.10/dist-packages (from rasterio) (8.1.7)\n",
            "Requirement already satisfied: cligj>=0.5 in /usr/local/lib/python3.10/dist-packages (from rasterio) (0.7.2)\n",
            "Collecting snuggs>=1.4.1 (from rasterio)\n",
            "  Downloading snuggs-1.4.7-py3-none-any.whl (5.4 kB)\n",
            "Requirement already satisfied: click-plugins in /usr/local/lib/python3.10/dist-packages (from rasterio) (1.1.1)\n",
            "Requirement already satisfied: setuptools in /usr/local/lib/python3.10/dist-packages (from rasterio) (67.7.2)\n",
            "Requirement already satisfied: pyparsing>=2.1.6 in /usr/local/lib/python3.10/dist-packages (from snuggs>=1.4.1->rasterio) (3.1.1)\n",
            "Installing collected packages: snuggs, affine, rasterio\n",
            "Successfully installed affine-2.4.0 rasterio-1.3.9 snuggs-1.4.7\n"
          ]
        }
      ]
    },
    {
      "cell_type": "code",
      "source": [
        "import rasterio\n",
        "from rasterio.enums import Resampling\n",
        "\n",
        "# Open the DSM to get its spatial characteristics\n",
        "with rasterio.open('/content/drive/MyDrive/IV Year Major Project/Tree Height/DSM and DTM/Single DSM DTM/210930_Major Project_dsm (1).tif') as dsm_src:\n",
        "    dsm = dsm_src.read(1)  # Read the first band\n",
        "    dsm_transform = dsm_src.transform\n",
        "    dsm_crs = dsm_src.crs\n",
        "\n",
        "# Open the DTM, but this time we'll resample it\n",
        "with rasterio.open('/content/drive/MyDrive/IV Year Major Project/Tree Height/DSM and DTM/Single DSM DTM/210930_Major Project_dtm.tif') as dtm_src:\n",
        "    # Calculate the scaling factors for x and y directions\n",
        "    scale_x = dsm_src.width / dtm_src.width\n",
        "    scale_y = dsm_src.height / dtm_src.height\n",
        "\n",
        "    # Perform resampling\n",
        "    dtm_resampled = dtm_src.read(\n",
        "        1,\n",
        "        out_shape=(\n",
        "            dtm_src.count,\n",
        "            int(dtm_src.height * scale_y),\n",
        "            int(dtm_src.width * scale_x)\n",
        "        ),\n",
        "        resampling=Resampling.bilinear  # or choose another resampling method\n",
        "    )\n",
        "\n",
        "    # Adjust the transform of the resampled DTM\n",
        "    new_transform = dtm_src.transform * dtm_src.transform.scale(\n",
        "        (dtm_src.width / dtm_resampled.shape[-1]),\n",
        "        (dtm_src.height / dtm_resampled.shape[-2])\n",
        "    )\n",
        "\n",
        "# Now dtm_resampled should have the same shape as dsm\n",
        "chm = dsm - dtm_resampled\n",
        "\n",
        "# Save the CHM to a new TIFF file, making sure to use the DSM's transform and CRS\n",
        "with rasterio.open(\n",
        "    '/content/drive/MyDrive/IV Year Major Project/Tree Height/chm_empty.tif', 'w',\n",
        "    driver='GTiff',\n",
        "    height=chm.shape[0],\n",
        "    width=chm.shape[1],\n",
        "    count=1,\n",
        "    dtype=chm.dtype,\n",
        "    crs=dsm_crs,\n",
        "    transform=dsm_transform,\n",
        ") as dst:\n",
        "    dst.write(chm, 1)"
      ],
      "metadata": {
        "id": "xu76K9Dxbume"
      },
      "execution_count": null,
      "outputs": []
    },
    {
      "cell_type": "markdown",
      "source": [
        "# **QGIS CHM**"
      ],
      "metadata": {
        "id": "5l6D4Mn3rGJy"
      }
    },
    {
      "cell_type": "code",
      "source": [
        "import rasterio\n",
        "import numpy as np\n",
        "\n",
        "# Path to your CHM file\n",
        "chm_path = '/content/drive/MyDrive/IV Year Major Project/Tree Height/chm_dtm_dsm_1.tif'\n",
        "\n",
        "# Open the CHM file\n",
        "with rasterio.open(chm_path) as chm_src:\n",
        "    chm_array = chm_src.read(1)  # Read the first band\n",
        "    chm_transform = chm_src.transform"
      ],
      "metadata": {
        "id": "uDRTJOjSnUrJ"
      },
      "execution_count": null,
      "outputs": []
    },
    {
      "cell_type": "code",
      "source": [
        "!pip install rioxarray"
      ],
      "metadata": {
        "colab": {
          "base_uri": "https://localhost:8080/"
        },
        "id": "dtbFT02C4UAP",
        "outputId": "3a2e0695-13c2-43fd-ad01-81576cae998a"
      },
      "execution_count": null,
      "outputs": [
        {
          "output_type": "stream",
          "name": "stdout",
          "text": [
            "Requirement already satisfied: rioxarray in /usr/local/lib/python3.10/dist-packages (0.15.1)\n",
            "Requirement already satisfied: packaging in /usr/local/lib/python3.10/dist-packages (from rioxarray) (23.2)\n",
            "Requirement already satisfied: rasterio>=1.3 in /usr/local/lib/python3.10/dist-packages (from rioxarray) (1.3.9)\n",
            "Requirement already satisfied: xarray>=2022.3.0 in /usr/local/lib/python3.10/dist-packages (from rioxarray) (2023.7.0)\n",
            "Requirement already satisfied: pyproj>=3.3 in /usr/local/lib/python3.10/dist-packages (from rioxarray) (3.6.1)\n",
            "Requirement already satisfied: numpy>=1.23 in /usr/local/lib/python3.10/dist-packages (from rioxarray) (1.25.2)\n",
            "Requirement already satisfied: certifi in /usr/local/lib/python3.10/dist-packages (from pyproj>=3.3->rioxarray) (2024.2.2)\n",
            "Requirement already satisfied: affine in /usr/local/lib/python3.10/dist-packages (from rasterio>=1.3->rioxarray) (2.4.0)\n",
            "Requirement already satisfied: attrs in /usr/local/lib/python3.10/dist-packages (from rasterio>=1.3->rioxarray) (23.2.0)\n",
            "Requirement already satisfied: click>=4.0 in /usr/local/lib/python3.10/dist-packages (from rasterio>=1.3->rioxarray) (8.1.7)\n",
            "Requirement already satisfied: cligj>=0.5 in /usr/local/lib/python3.10/dist-packages (from rasterio>=1.3->rioxarray) (0.7.2)\n",
            "Requirement already satisfied: snuggs>=1.4.1 in /usr/local/lib/python3.10/dist-packages (from rasterio>=1.3->rioxarray) (1.4.7)\n",
            "Requirement already satisfied: click-plugins in /usr/local/lib/python3.10/dist-packages (from rasterio>=1.3->rioxarray) (1.1.1)\n",
            "Requirement already satisfied: setuptools in /usr/local/lib/python3.10/dist-packages (from rasterio>=1.3->rioxarray) (67.7.2)\n",
            "Requirement already satisfied: pandas>=1.4 in /usr/local/lib/python3.10/dist-packages (from xarray>=2022.3.0->rioxarray) (1.5.3)\n",
            "Requirement already satisfied: python-dateutil>=2.8.1 in /usr/local/lib/python3.10/dist-packages (from pandas>=1.4->xarray>=2022.3.0->rioxarray) (2.8.2)\n",
            "Requirement already satisfied: pytz>=2020.1 in /usr/local/lib/python3.10/dist-packages (from pandas>=1.4->xarray>=2022.3.0->rioxarray) (2023.4)\n",
            "Requirement already satisfied: pyparsing>=2.1.6 in /usr/local/lib/python3.10/dist-packages (from snuggs>=1.4.1->rasterio>=1.3->rioxarray) (3.1.1)\n",
            "Requirement already satisfied: six>=1.5 in /usr/local/lib/python3.10/dist-packages (from python-dateutil>=2.8.1->pandas>=1.4->xarray>=2022.3.0->rioxarray) (1.16.0)\n"
          ]
        }
      ]
    },
    {
      "cell_type": "code",
      "source": [
        "import rioxarray as rxr\n",
        "da_chm = rxr.open_rasterio(chm_path).squeeze().drop(labels='band')\n",
        "nodata = da_chm.rio.nodata\n",
        "da_chm = da_chm.where(da_chm != nodata)\n",
        "\n",
        "print(da_chm)\n",
        "print(da_chm.dtype)\n",
        "print(da_chm.values)"
      ],
      "metadata": {
        "colab": {
          "base_uri": "https://localhost:8080/"
        },
        "id": "VH1cWu2M4I1T",
        "outputId": "baf39331-7836-4313-b61f-cf2505ce6410"
      },
      "execution_count": null,
      "outputs": [
        {
          "output_type": "stream",
          "name": "stdout",
          "text": [
            "<xarray.DataArray (y: 22504, x: 18255)>\n",
            "array([[nan, nan, nan, ..., nan, nan, nan],\n",
            "       [nan, nan, nan, ..., nan, nan, nan],\n",
            "       [nan, nan, nan, ..., nan, nan, nan],\n",
            "       ...,\n",
            "       [nan, nan, nan, ..., nan, nan, nan],\n",
            "       [nan, nan, nan, ..., nan, nan, nan],\n",
            "       [nan, nan, nan, ..., nan, nan, nan]], dtype=float32)\n",
            "Coordinates:\n",
            "  * x            (x) float64 6.609e+05 6.609e+05 6.609e+05 ... 6.61e+05 6.61e+05\n",
            "  * y            (y) float64 3.613e+06 3.613e+06 ... 3.613e+06 3.613e+06\n",
            "    spatial_ref  int64 0\n",
            "Attributes:\n",
            "    AREA_OR_POINT:             Area\n",
            "    STATISTICS_APPROXIMATE:    YES\n",
            "    STATISTICS_MAXIMUM:        10.303554534912\n",
            "    STATISTICS_MEAN:           0.62562006271238\n",
            "    STATISTICS_MINIMUM:        -0.16918563842773\n",
            "    STATISTICS_STDDEV:         1.0207351097969\n",
            "    STATISTICS_VALID_PERCENT:  88.4\n",
            "    _FillValue:                -3.4028235e+38\n",
            "    scale_factor:              1.0\n",
            "    add_offset:                0.0\n",
            "float32\n",
            "[[nan nan nan ... nan nan nan]\n",
            " [nan nan nan ... nan nan nan]\n",
            " [nan nan nan ... nan nan nan]\n",
            " ...\n",
            " [nan nan nan ... nan nan nan]\n",
            " [nan nan nan ... nan nan nan]\n",
            " [nan nan nan ... nan nan nan]]\n"
          ]
        }
      ]
    },
    {
      "cell_type": "code",
      "source": [
        "mean_height = np.mean(chm_array[chm_array > 0])  # Mean height, excluding no-data values\n",
        "max_height = np.max(chm_array)\n",
        "min_height = np.min(chm_array[chm_array > 0])  # Min height, excluding no-data values\n",
        "\n",
        "print(f\"Mean Height: {mean_height} meters\")\n",
        "print(f\"Max Height: {max_height} meters\")\n",
        "print(f\"Min Height: {min_height} meters\")"
      ],
      "metadata": {
        "colab": {
          "base_uri": "https://localhost:8080/"
        },
        "id": "CB14W_euncb4",
        "outputId": "6b0509bd-dfbf-4901-a3b9-ba87b220c5bc"
      },
      "execution_count": null,
      "outputs": [
        {
          "output_type": "stream",
          "name": "stdout",
          "text": [
            "Mean Height: 0.6356552839279175 meters\n",
            "Max Height: 10.324043273925781 meters\n",
            "Min Height: 1.9073486328125e-06 meters\n"
          ]
        }
      ]
    },
    {
      "cell_type": "code",
      "source": [
        "# Mask to identify where tree height is greater than 5 meters\n",
        "trees_mask = chm_array > 5\n",
        "\n",
        "# Count the number of pixels representing trees taller than 5 meters\n",
        "trees_count = np.sum(trees_mask)\n",
        "\n",
        "print(f\"Number of pixels representing trees taller than 5 meters: {trees_count}\")"
      ],
      "metadata": {
        "colab": {
          "base_uri": "https://localhost:8080/"
        },
        "id": "vlLp9X04ndkf",
        "outputId": "168ffbe8-7fba-471d-c841-9bad07f536ea"
      },
      "execution_count": null,
      "outputs": [
        {
          "output_type": "stream",
          "name": "stdout",
          "text": [
            "Number of pixels representing trees taller than 5 meters: 1131417\n"
          ]
        }
      ]
    }
  ]
}